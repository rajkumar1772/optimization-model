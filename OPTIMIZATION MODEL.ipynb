{
 "cells": [
  {
   "cell_type": "code",
   "execution_count": 13,
   "id": "248f250c-986b-4822-bfaf-9dd711aa105c",
   "metadata": {},
   "outputs": [
    {
     "ename": "SyntaxError",
     "evalue": "invalid syntax (2114867186.py, line 1)",
     "output_type": "error",
     "traceback": [
      "\u001b[1;36m  Cell \u001b[1;32mIn[13], line 1\u001b[1;36m\u001b[0m\n\u001b[1;33m    Business Scenario\u001b[0m\n\u001b[1;37m             ^\u001b[0m\n\u001b[1;31mSyntaxError\u001b[0m\u001b[1;31m:\u001b[0m invalid syntax\n"
     ]
    }
   ],
   "source": [
    "Business Scenario\n",
    "\n",
    "A fast-growing e-commerce startup manages a small urban warehouse.The warehouse receives three types of products daily:\n",
    "*Eco-friendly Gadgets\n",
    "*Home Decor Items\n",
    "*Fitness Accessories\n",
    "The company wants to maximize daily profit by deciding how many units of each product to stock and sell, given limited warehouse space, labor hours, and a daily delivery quota. Each product has different space requirements, profit margins, and handling times.\n",
    "Task:\n",
    "Formulate and solve an optimization model that tells the business how many units of each product to stock and sell each day to maximize profit, subject to operational constraints.\n",
    "\n",
    "    Step 1: Problem Setup\n",
    "Parameters\n",
    "\n",
    "    Product\t               Profit per Unit\tSpace per Unit (cubic ft)\tHandling Time (min)\t Max Daily Supply\n",
    "\n",
    "Eco-friendly Gadgets\t       $30\t            2.0                           \t10\t            40\n",
    "Home Decor Items\t           $22             \t3.0                         \t8\t            50\n",
    "Fitness Accessories\t           $18\t            1.5                          \t6\t            60\n",
    "\n",
    "*Warehouse space available: 150 cubic feet/day\n",
    "\n",
    "*Total labor available: 8 worker-hours/day (480 minutes)\n",
    "\n",
    "*Delivery van quota: 80 units/day (all products combined)\n",
    "\n",
    "# Warehouse Space Optimization for an E-Commerce Startup\n",
    "\n",
    "This notebook demonstrates how to maximize daily profit by optimally allocating warehouse space, labor, and delivery resources for three product categories using linear programming and PuLP.\n",
    "\n",
    " "
   ]
  },
  {
   "cell_type": "code",
   "execution_count": null,
   "id": "2b31262f-f9e0-44a5-b29c-fcec0d00a6b6",
   "metadata": {},
   "outputs": [],
   "source": []
  },
  {
   "cell_type": "code",
   "execution_count": null,
   "id": "4b371c46-f752-4849-8249-5017f22e0008",
   "metadata": {},
   "outputs": [],
   "source": []
  }
 ],
 "metadata": {
  "kernelspec": {
   "display_name": "Python 3 (ipykernel)",
   "language": "python",
   "name": "python3"
  },
  "language_info": {
   "codemirror_mode": {
    "name": "ipython",
    "version": 3
   },
   "file_extension": ".py",
   "mimetype": "text/x-python",
   "name": "python",
   "nbconvert_exporter": "python",
   "pygments_lexer": "ipython3",
   "version": "3.12.7"
  }
 },
 "nbformat": 4,
 "nbformat_minor": 5
}
